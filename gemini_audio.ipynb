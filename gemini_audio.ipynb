{
 "cells": [
  {
   "cell_type": "code",
   "execution_count": 1,
   "metadata": {},
   "outputs": [
    {
     "name": "stderr",
     "output_type": "stream",
     "text": [
      "c:\\Users\\dhanu\\.conda\\envs\\llm\\lib\\site-packages\\tqdm\\auto.py:21: TqdmWarning: IProgress not found. Please update jupyter and ipywidgets. See https://ipywidgets.readthedocs.io/en/stable/user_install.html\n",
      "  from .autonotebook import tqdm as notebook_tqdm\n"
     ]
    }
   ],
   "source": [
    "import google.generativeai as genai"
   ]
  },
  {
   "cell_type": "code",
   "execution_count": 3,
   "metadata": {},
   "outputs": [],
   "source": [
    "genai.configure(api_key=\"*********************\")"
   ]
  },
  {
   "cell_type": "code",
   "execution_count": 5,
   "metadata": {},
   "outputs": [],
   "source": [
    "audio_file = genai.upload_file(path=\"audio.opus\")"
   ]
  },
  {
   "cell_type": "code",
   "execution_count": 7,
   "metadata": {},
   "outputs": [
    {
     "name": "stdout",
     "output_type": "stream",
     "text": [
      "## Summary of the Audio File:\n",
      "\n",
      "The audio discusses the relationship between D3.js (Data-Driven Documents) and SVG (Scalable Vector Graphics) in creating dynamic and interactive data visualizations on the web. \n",
      "\n",
      "**Key Points:**\n",
      "\n",
      "* **D3.js** is a JavaScript library used for manipulating documents based on data. It is commonly employed for creating dynamic and interactive data visualizations on web pages.\n",
      "* **SVG** is a vector image format used for creating two-dimensional graphics. It is particularly suited for web development due to its scalability and interactivity.\n",
      "* **D3.js and SVG work together** to produce data visualizations. D3.js binds data to SVG elements, allowing for dynamic updates and interactions based on the underlying data. \n",
      "* **Benefits of using D3.js and SVG:** \n",
      "    * **Dynamic and interactive visualizations:**  They allow users to explore and engage with data in a more meaningful way. \n",
      "    * **Scalability:** SVG graphics can be scaled to any size without losing quality, making them suitable for various screen sizes and devices.\n",
      "\n",
      "**The audio describes an example of creating a basic data visualization using D3.js and SVG:**\n",
      "\n",
      "1. **HTML Structure:** A basic HTML structure is created with a head and body section. \n",
      "2. **SVG Element:** An SVG element is defined within the body, providing a container for the visualization. \n",
      "3. **D3.js Integration:** D3.js is used to define shapes (e.g., circles) and bind data to these shapes.  This data determines the properties of the shapes, such as position and size.\n",
      "4. **Axis and Data Binding:** The x and y axes are defined to provide context for the visualization. Data is then bound to the SVG circles, allowing their properties to be dynamically updated based on the data. \n",
      "\n",
      "**Overall, the audio highlights the power and flexibility of using D3.js and SVG for creating compelling and interactive data visualizations on the web.**\n",
      "\n"
     ]
    }
   ],
   "source": [
    "model = genai.GenerativeModel(\"models/gemini-1.5-pro-latest\")\n",
    "\n",
    "response = model.generate_content( \n",
    "    [\n",
    "        \"Please summarize the following auido file: \",\n",
    "        audio_file\n",
    "    ])\n",
    "print(response.text)"
   ]
  },
  {
   "cell_type": "code",
   "execution_count": null,
   "metadata": {},
   "outputs": [],
   "source": []
  }
 ],
 "metadata": {
  "kernelspec": {
   "display_name": "llm",
   "language": "python",
   "name": "python3"
  },
  "language_info": {
   "codemirror_mode": {
    "name": "ipython",
    "version": 3
   },
   "file_extension": ".py",
   "mimetype": "text/x-python",
   "name": "python",
   "nbconvert_exporter": "python",
   "pygments_lexer": "ipython3",
   "version": "3.10.14"
  }
 },
 "nbformat": 4,
 "nbformat_minor": 2
}
